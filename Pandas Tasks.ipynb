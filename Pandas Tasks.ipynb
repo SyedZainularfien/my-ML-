{
 "cells": [
  {
   "cell_type": "code",
   "execution_count": 2,
   "id": "44c7c2b5",
   "metadata": {},
   "outputs": [
    {
     "name": "stdout",
     "output_type": "stream",
     "text": [
      "   Eleanor  Chidi  Tahani  Jason\n",
      "0       10     87      64     73\n",
      "1       96     73      95     44\n",
      "2       95     14      63     67\n",
      "\n",
      "Second row of the Eleanor column: 96\n",
      "\n",
      "   Eleanor  Chidi  Tahani  Jason  Janet\n",
      "0       10     87      64     73    137\n",
      "1       96     73      95     44    139\n",
      "2       95     14      63     67    130\n"
     ]
    }
   ],
   "source": [
    "# Name \"Syed Zain ul arfien    CMS : 49434\"\n",
    "#Pandas task1\n",
    "import numpy as np\n",
    "import pandas as pd\n",
    "import matplotlib.pyplot as plt\n",
    "import seaborn as sns\n",
    "from sklearn.datasets import fetch_openml\n",
    "\n",
    "my_column_names = ['Eleanor', 'Chidi', 'Tahani', 'Jason']\n",
    "\n",
    "my_data = np.random.randint(low=0, high=101, size=(3, 4))\n",
    "\n",
    "df = pd.DataFrame(data=my_data, columns=my_column_names)\n",
    "\n",
    "print(df)\n",
    "\n",
    "print(\"\\nSecond row of the Eleanor column: %d\\n\" % df['Eleanor'][1])\n",
    "\n",
    "df['Janet'] = df['Tahani'] + df['Jason']\n",
    "\n",
    "print(df)"
   ]
  },
  {
   "cell_type": "code",
   "execution_count": 4,
   "id": "29ef01eb",
   "metadata": {},
   "outputs": [
    {
     "ename": "SyntaxError",
     "evalue": "unexpected EOF while parsing (Temp/ipykernel_11804/2438449126.py, line 29)",
     "output_type": "error",
     "traceback": [
      "\u001b[1;36m  File \u001b[1;32m\"C:\\Users\\pc\\AppData\\Local\\Temp/ipykernel_11804/2438449126.py\"\u001b[1;36m, line \u001b[1;32m29\u001b[0m\n\u001b[1;33m    print(\"  copy_of_my_dataframe does not get updated: %d\" % copy_of_my_dataframe['activity'][1]\u001b[0m\n\u001b[1;37m                                                                                                 ^\u001b[0m\n\u001b[1;31mSyntaxError\u001b[0m\u001b[1;31m:\u001b[0m unexpected EOF while parsing\n"
     ]
    }
   ],
   "source": []
  }
 ],
 "metadata": {
  "kernelspec": {
   "display_name": "Python 3 (ipykernel)",
   "language": "python",
   "name": "python3"
  },
  "language_info": {
   "codemirror_mode": {
    "name": "ipython",
    "version": 3
   },
   "file_extension": ".py",
   "mimetype": "text/x-python",
   "name": "python",
   "nbconvert_exporter": "python",
   "pygments_lexer": "ipython3",
   "version": "3.9.7"
  }
 },
 "nbformat": 4,
 "nbformat_minor": 5
}
