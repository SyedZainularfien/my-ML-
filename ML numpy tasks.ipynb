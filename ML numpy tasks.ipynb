{
 "cells": [
  {
   "cell_type": "code",
   "execution_count": 1,
   "id": "198f993f",
   "metadata": {},
   "outputs": [
    {
     "name": "stdout",
     "output_type": "stream",
     "text": [
      "Feature: [ 6  7  8  9 10 11 12 13 14 15 16 17 18 19 20]\n",
      "Label: [22 25 28 31 34 37 40 43 46 49 52 55 58 61 64]\n"
     ]
    }
   ],
   "source": [
    "# Name \"Syed Zain ul arfien    CMS : 49434\"\n",
    "# Numpy task1\n",
    "import numpy as np\n",
    "\n",
    "# Create the feature array\n",
    "feature = np.arange(6, 21)\n",
    "\n",
    "# Create the label array\n",
    "label = (3 * feature) + 4\n",
    "\n",
    "# Print the feature and label arrays\n",
    "print(\"Feature:\", feature)\n",
    "print(\"Label:\", label)\n",
    "\n"
   ]
  },
  {
   "cell_type": "code",
   "execution_count": 2,
   "id": "f678b025",
   "metadata": {},
   "outputs": [
    {
     "name": "stdout",
     "output_type": "stream",
     "text": [
      "[ 1.9385585  -1.90675388 -0.55265128 -0.21870178 -1.54330419 -0.90688904\n",
      "  0.53879865 -0.27658978 -1.256339   -0.46343735 -1.16731181  1.28931351\n",
      "  1.24666098 -1.33001154  1.34092134]\n",
      "[23.9385585  23.09324612 27.44734872 30.78129822 32.45669581 36.09311096\n",
      " 40.53879865 42.72341022 44.743661   48.53656265 50.83268819 56.28931351\n",
      " 59.24666098 59.66998846 65.34092134]\n"
     ]
    }
   ],
   "source": [
    "# Numpy task2\n",
    "noise = (np.random.random([15]) * 4) - 2\n",
    "print(noise)\n",
    "label = label + noise \n",
    "print(label)"
   ]
  }
 ],
 "metadata": {
  "kernelspec": {
   "display_name": "Python 3 (ipykernel)",
   "language": "python",
   "name": "python3"
  },
  "language_info": {
   "codemirror_mode": {
    "name": "ipython",
    "version": 3
   },
   "file_extension": ".py",
   "mimetype": "text/x-python",
   "name": "python",
   "nbconvert_exporter": "python",
   "pygments_lexer": "ipython3",
   "version": "3.9.7"
  }
 },
 "nbformat": 4,
 "nbformat_minor": 5
}
