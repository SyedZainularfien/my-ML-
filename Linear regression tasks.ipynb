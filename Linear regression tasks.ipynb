{
 "cells": [
  {
   "cell_type": "code",
   "execution_count": null,
   "id": "acd0903f",
   "metadata": {},
   "outputs": [],
   "source": [
    "# Syed Zainularfien 49434\n",
    "#Task1: Why dont we usse bston dataset?\n",
    "# Answer:\n",
    "# The Boston dataset is a well-known dataset in machine learning that contains data about houses in the suburbs of Boston.\n",
    "# It includes features such as the average number of rooms per dwelling, the proportion of owner-occupied units built prior \n",
    "# to 1940, and the weighted distances to five Boston employment centers. The goal is to predict the median value of \n",
    "# owner-occupied homes.\n",
    "# You can use the Boston dataset if you want to perform regression tasks on a real-world dataset with multiple features.\n",
    "# However, it is not necessary to use the Boston dataset for every machine learning task. In fact, it might be more appropriate\n",
    "# to use a simpler dataset if you are just starting out with machine learning or if you want to focus on a specific aspect of \n",
    "# the modeling process.\n",
    "\n",
    "\n",
    "\n",
    "\n"
   ]
  },
  {
   "cell_type": "code",
   "execution_count": 2,
   "id": "110f7f33",
   "metadata": {},
   "outputs": [
    {
     "name": "stdout",
     "output_type": "stream",
     "text": [
      "[[ 7.77602329  9.86902235]\n",
      " [ 5.70379666  5.58454436]\n",
      " [-0.32759059  6.195115  ]\n",
      " [-8.04940428 -0.28648705]\n",
      " [-0.52022824  3.10664916]\n",
      " [ 1.82398141  4.45639589]\n",
      " [-3.83259852  8.37457028]\n",
      " [ 5.7975755  -1.66856051]\n",
      " [-1.06135998  7.79280884]\n",
      " [ 4.44512507  5.82688649]\n",
      " [ 7.07176727 -5.89744456]\n",
      " [-5.36153464  6.75751484]\n",
      " [-2.40753803 -2.66580743]\n",
      " [-9.02289998 -6.23142754]\n",
      " [ 9.60804582  2.64871598]\n",
      " [-1.7561738   7.11352832]\n",
      " [ 4.18583699 -0.7107008 ]\n",
      " [ 3.97878377  4.7582397 ]\n",
      " [-4.7982461   4.6861847 ]\n",
      " [ 0.6588413  -8.03513937]\n",
      " [-2.58319849  6.54861518]\n",
      " [ 7.27149868 -4.73545243]\n",
      " [-2.93831473 -6.33766635]\n",
      " [ 8.28201564  8.4617912 ]\n",
      " [ 6.48763927 -8.01534152]\n",
      " [ 7.62490876  2.7724577 ]\n",
      " [-9.20980305  3.29850847]\n",
      " [ 1.54741713  1.46307344]\n",
      " [-4.93037847  0.54468427]\n",
      " [ 2.08680163  1.28929722]]\n",
      "after Split\n",
      "[ 35.29009127  22.57668203  11.73504881 -16.67178265   5.17284183\n",
      "  12.56075461   9.08394352   8.25802998  13.46289771  20.54402312\n",
      "   2.34864543   2.7919604  -10.14669091 -30.50865505  24.51352359\n",
      "  10.71470904   6.95027238  17.47404694  -0.22412279 -14.75259614\n",
      "   7.93083339   5.0720925  -18.55196216  33.48761368  -3.0554045\n",
      "  20.79473292 -11.82258916   6.02098115  -8.77138841   6.7521977 ]\n"
     ]
    },
    {
     "data": {
      "image/png": "[encoded data removed]",
      "text/plain": [
       "<Figure size 432x288 with 1 Axes>"
      ]
     },
     "metadata": {
      "needs_background": "light"
     },
     "output_type": "display_data"
    }
   ],
   "source": [
    "#Task2:# task 2 : run this same model on synthetic data generated in last \n",
    "\n",
    "import numpy as np\n",
    "import pandas as pd\n",
    "import matplotlib.pyplot as plt\n",
    "import seaborn as sns\n",
    "from sklearn.datasets import fetch_openml\n",
    "\n",
    "features = (np.random.random([30,2]) * 20) - 10\n",
    "print(features)\n",
    "f1= features [:, 0]\n",
    "f2= features [:, 1]\n",
    "label = (f1+f2)*2\n",
    "print(\"after Split\")\n",
    "print(label)\n",
    "plt.title('Syed Zain ul arfien')\n",
    "plt.scatter(f1,label,label='F1')\n",
    "plt.scatter(f2,label,label='F2')\n",
    "plt.legend()\n",
    "plt.show()"
   ]
  },
  {
   "cell_type": "code",
   "execution_count": 3,
   "id": "17b391ec",
   "metadata": {},
   "outputs": [
    {
     "name": "stdout",
     "output_type": "stream",
     "text": [
      "         f1        f2\n",
      "0  7.776023  9.869022\n",
      "1  5.703797  5.584544\n",
      "2 -0.327591  6.195115\n",
      "3 -8.049404 -0.286487\n",
      "4 -0.520228  3.106649\n"
     ]
    }
   ],
   "source": [
    "X = pd.DataFrame(features, columns = ['f1','f2'])\n",
    "y = label\n",
    "\n",
    "print(X.head())"
   ]
  },
  {
   "cell_type": "code",
   "execution_count": 4,
   "id": "2ce097de",
   "metadata": {},
   "outputs": [
    {
     "name": "stdout",
     "output_type": "stream",
     "text": [
      "(22, 2)\n",
      "(8, 2)\n",
      "(22,)\n",
      "(8,)\n"
     ]
    }
   ],
   "source": [
    "# train-test-split\n",
    "from sklearn.model_selection import train_test_split\n",
    "\n",
    "X_train, X_test, Y_train, Y_test = train_test_split(X,y)\n",
    "print(X_train.shape)\n",
    "print(X_test.shape)\n",
    "print(Y_train.shape)\n",
    "print(Y_test.shape)"
   ]
  },
  {
   "cell_type": "code",
   "execution_count": 5,
   "id": "4bfc6f0c",
   "metadata": {},
   "outputs": [
    {
     "data": {
      "text/plain": [
       "LinearRegression()"
      ]
     },
     "execution_count": 5,
     "metadata": {},
     "output_type": "execute_result"
    }
   ],
   "source": [
    "#training and testing model\n",
    "\n",
    "from sklearn.linear_model import LinearRegression\n",
    "from sklearn.metrics import mean_squared_error\n",
    "\n",
    "lin_model = LinearRegression()\n",
    "lin_model.fit(X_train, Y_train)"
   ]
  },
  {
   "cell_type": "code",
   "execution_count": 6,
   "id": "e6a51e84",
   "metadata": {},
   "outputs": [
    {
     "name": "stdout",
     "output_type": "stream",
     "text": [
      "The model performance for training set\n",
      "--------------------------------------\n",
      "RMSE is 0.0\n",
      "R2 score is 1.0\n",
      "\n",
      "\n",
      "The model performance for testing set\n",
      "--------------------------------------\n",
      "RMSE is 0.0\n",
      "R2 score is 1.0\n"
     ]
    }
   ],
   "source": [
    "from sklearn.metrics import r2_score\n",
    "# model evaluation for training set\n",
    "y_train_predict = lin_model.predict(X_train)\n",
    "testPred = lin_model.predict(X_test)\n",
    "rmse = (np.sqrt(mean_squared_error(Y_train, y_train_predict)))\n",
    "r2 = r2_score(Y_train, y_train_predict)\n",
    "\n",
    "print(\"The model performance for training set\")\n",
    "print(\"--------------------------------------\")\n",
    "print('RMSE is {}'.format(rmse))\n",
    "print('R2 score is {}'.format(r2))\n",
    "print(\"\\n\")\n",
    "\n",
    "# model evaluation for testing set\n",
    "y_test_predict = lin_model.predict(X_test)\n",
    "rmse = (mean_squared_error(Y_test, y_test_predict))\n",
    "r2 = r2_score(Y_test, y_test_predict)\n",
    "\n",
    "print(\"The model performance for testing set\")\n",
    "print(\"--------------------------------------\")\n",
    "print('RMSE is {}'.format(rmse))\n",
    "print('R2 score is {}'.format(r2))"
   ]
  },
  {
   "cell_type": "code",
   "execution_count": 7,
   "id": "82f1eeb7",
   "metadata": {},
   "outputs": [
    {
     "data": {
      "image/png": "[encoded data removed]",
      "text/plain": [
       "<Figure size 432x288 with 1 Axes>"
      ]
     },
     "metadata": {
      "needs_background": "light"
     },
     "output_type": "display_data"
    }
   ],
   "source": [
    "#plot graph to see\n",
    "plt.scatter(X_train['f1'], Y_train,color='g') \n",
    "plt.scatter(X_train['f2'], Y_train,color='b') \n",
    "plt.plot(X_test['f1'], y_test_predict,color='k') \n",
    "plt.plot(X_test['f2'], y_test_predict,color='r')\n",
    "plt.title('Syed Zainularfien   49434')\n",
    "plt.show()"
   ]
  },
  {
   "cell_type": "code",
   "execution_count": 8,
   "id": "1872f45e",
   "metadata": {},
   "outputs": [
    {
     "data": {
      "image/png": "[encoded data removed]",
      "text/plain": [
       "<Figure size 432x288 with 1 Axes>"
      ]
     },
     "metadata": {
      "needs_background": "light"
     },
     "output_type": "display_data"
    }
   ],
   "source": [
    "plt.scatter(X_test['f1'],Y_test)\n",
    "plt.scatter(X_test['f2'],y_test_predict)\n",
    "plt.title('Syed Zainularfien    49434')\n",
    "plt.show()"
   ]
  },
  {
   "cell_type": "code",
   "execution_count": 9,
   "id": "7e7b42ce",
   "metadata": {},
   "outputs": [
    {
     "name": "stdout",
     "output_type": "stream",
     "text": [
      "[4.65679012]\n"
     ]
    }
   ],
   "source": [
    "#Task 3 : apply linear regression on any data set of your choice\n",
    "import pandas as pd\n",
    "from sklearn.linear_model import LinearRegression\n",
    "\n",
    "# Load the Wine Quality dataset\n",
    "df = pd.read_csv(\"https://archive.ics.uci.edu/ml/machine-learning-databases/wine-quality/winequality-white.csv\", sep=\";\")\n",
    "\n",
    "# Split the data into features (X) and target (y)\n",
    "X = df.drop(\"quality\", axis=1)\n",
    "y = df[\"quality\"]\n",
    "\n",
    "# Fit a multiple linear regression model to the data\n",
    "model = LinearRegression()\n",
    "model.fit(X, y)\n",
    "\n",
    "# Make predictions on new data\n",
    "new_data = [[7.3, 0.65, 0.0, 1.2, 0.065, 15.0, 21.0, 0.9946, 3.36, 0.47, 10.0]]\n",
    "prediction = model.predict(new_data)\n",
    "print(prediction)\n"
   ]
  },
  {
   "cell_type": "code",
   "execution_count": 10,
   "id": "5d61a1c5",
   "metadata": {},
   "outputs": [
    {
     "name": "stdout",
     "output_type": "stream",
     "text": [
      "[4.65679012]\n"
     ]
    },
    {
     "data": {
      "image/png": "[encoded data removed]",
      "text/plain": [
       "<Figure size 432x288 with 1 Axes>"
      ]
     },
     "metadata": {
      "needs_background": "light"
     },
     "output_type": "display_data"
    }
   ],
   "source": [
    "import pandas as pd\n",
    "import matplotlib.pyplot as plt\n",
    "from sklearn.linear_model import LinearRegression\n",
    "\n",
    "# Load the Wine Quality dataset\n",
    "df = pd.read_csv(\"https://archive.ics.uci.edu/ml/machine-learning-databases/wine-quality/winequality-white.csv\", sep=\";\")\n",
    "\n",
    "# Split the data into features (X) and target (y)\n",
    "X = df.drop(\"quality\", axis=1)\n",
    "y = df[\"quality\"]\n",
    "\n",
    "# Fit a multiple linear regression model to the data\n",
    "model = LinearRegression()\n",
    "model.fit(X, y)\n",
    "\n",
    "# Make predictions on new data\n",
    "new_data = [[7.3, 0.65, 0.0, 1.2, 0.065, 15.0, 21.0, 0.9946, 3.36, 0.47, 10.0]]\n",
    "prediction = model.predict(new_data)\n",
    "print(prediction)\n",
    "\n",
    "# Plot the data and the model's predictions\n",
    "plt.scatter(df[\"quality\"], df[\"alcohol\"], c=\"blue\")\n",
    "plt.scatter(prediction, new_data[0][10], c=\"red\")\n",
    "plt.xlabel(\"Quality\")\n",
    "plt.ylabel(\"Alcohol\")\n",
    "plt.show()\n"
   ]
  }
 ],
 "metadata": {
  "kernelspec": {
   "display_name": "Python 3 (ipykernel)",
   "language": "python",
   "name": "python3"
  },
  "language_info": {
   "codemirror_mode": {
    "name": "ipython",
    "version": 3
   },
   "file_extension": ".py",
   "mimetype": "text/x-python",
   "name": "python",
   "nbconvert_exporter": "python",
   "pygments_lexer": "ipython3",
   "version": "3.9.7"
  }
 },
 "nbformat": 4,
 "nbformat_minor": 5
}
